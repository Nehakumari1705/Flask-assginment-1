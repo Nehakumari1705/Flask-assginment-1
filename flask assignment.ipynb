{
 "cells": [
  {
   "cell_type": "markdown",
   "id": "dd6ee67e",
   "metadata": {},
   "source": [
    "#### Q1. What is Flask Framework? What are the advantages of Flask Framework?\n",
    "\n",
    "\n",
    "###### Ans- Flask is a web framework for building web applications using the Python programming language. It was created by Armin Ronacher and is based on the Werkzeug toolkit and the Jinja2 template engine. Flask is designed to be easy to use and flexible, with a focus on simplicity and modularity.\n",
    "\n",
    "Some of the advantages of using Flask for web development include:\n",
    "\n",
    "1. Lightweight: Flask is a \"micro\" framework, which means it's small and doesn't have many dependencies. This makes it easy to set up and use, and it's also faster than some larger frameworks.\n",
    "\n",
    "2. Flexible: Flask is designed to be modular, which means you can use as much or as little of it as you need. This makes it easy to customize and adapt to your specific needs.\n",
    "\n",
    "3. Easy to learn: Flask has a simple and intuitive API, which makes it easy for developers who are new to web development or Python to get started.\n",
    "\n",
    "4. Pythonic: Flask follows Python's philosophy of simplicity and readability, which makes it easy to write clean, maintainable code.\n",
    "\n",
    "5. Extensible: Flask has a large and active community, which has developed many third-party extensions and plugins. This makes it easy to add new functionality to your application without having to write all the code yourself.\n",
    "\n",
    "Overall, Flask is a great choice for web developers who want a simple, flexible, and easy-to-use framework for building web applications using Python.\n",
    "\n",
    "\n",
    "\n"
   ]
  },
  {
   "cell_type": "markdown",
   "id": "9cc3d033",
   "metadata": {},
   "source": [
    "#### Q2. Create a simple Flask application to display ‘Hello World!!’. Attach the screenshot of the output in Jupyter Notebook."
   ]
  },
  {
   "cell_type": "code",
   "execution_count": null,
   "id": "d953ae68",
   "metadata": {},
   "outputs": [
    {
     "name": "stdout",
     "output_type": "stream",
     "text": [
      " * Serving Flask app \"__main__\" (lazy loading)\n",
      " * Environment: production\n",
      "\u001b[31m   WARNING: This is a development server. Do not use it in a production deployment.\u001b[0m\n",
      "\u001b[2m   Use a production WSGI server instead.\u001b[0m\n",
      " * Debug mode: off\n"
     ]
    },
    {
     "name": "stderr",
     "output_type": "stream",
     "text": [
      " * Running on all addresses.\n",
      "   WARNING: This is a development server. Do not use it in a production deployment.\n",
      " * Running on http://192.168.1.2:5000/ (Press CTRL+C to quit)\n"
     ]
    }
   ],
   "source": [
    "from flask import Flask\n",
    "\n",
    "app = Flask(__name__)\n",
    "\n",
    "@app.route(\"/\")\n",
    "def hello_world():\n",
    "    return \"Hello, World!\"\n",
    "if __name__==\"__main__\":\n",
    "    app.run(host=\"0.0.0.0\")"
   ]
  },
  {
   "cell_type": "markdown",
   "id": "9c1e71b9",
   "metadata": {},
   "source": [
    "![](2023-03-25.png)"
   ]
  },
  {
   "cell_type": "code",
   "execution_count": null,
   "id": "7bb3b043",
   "metadata": {},
   "outputs": [],
   "source": [
    "from IPython.display import Image\n"
   ]
  },
  {
   "cell_type": "markdown",
   "id": "ea9eae2e",
   "metadata": {},
   "source": [
    "Image(filename=\"https://1drv.ms/i/s!AnvpiTq79ZxrgRMK3Xbah9jheZzp?e=gwpyjS\",widh=200,height=500)"
   ]
  },
  {
   "cell_type": "markdown",
   "id": "e1a431ce",
   "metadata": {},
   "source": [
    "#### Q3. What is App routing in Flask? Why do we use app routes?"
   ]
  },
  {
   "cell_type": "markdown",
   "id": "2e740531",
   "metadata": {},
   "source": [
    "In Flask, app routing refers to the process of mapping a URL to a particular function or view in a Flask application. Flask provides a built-in route decorator that allows you to bind a URL to a Python function.\n",
    "\n",
    "For example, the following code defines a Flask app with a single route:"
   ]
  },
  {
   "cell_type": "code",
   "execution_count": null,
   "id": "1b5c0c5d",
   "metadata": {},
   "outputs": [],
   "source": [
    "from flask import Flask\n",
    "\n",
    "app = Flask(__name__)\n",
    "\n",
    "@app.route('/')\n",
    "def hello():\n",
    "    return 'Hello, World!'\n"
   ]
  },
  {
   "cell_type": "markdown",
   "id": "348e193b",
   "metadata": {},
   "source": [
    "App routes are used in Flask to define the behavior of different URLs within a web application. By mapping URLs to specific functions or views, Flask can determine what content should be displayed to the user based on their actions. This allows for dynamic, interactive web pages that can respond to user input and display personalized content.\n",
    "\n",
    "In addition, app routing in Flask also makes it easier to manage the structure of a web application by separating different components into individual views. This can help keep code organized and maintainable, especially for larger projects."
   ]
  },
  {
   "cell_type": "markdown",
   "id": "7a403345",
   "metadata": {},
   "source": [
    "#### Q4. Create a “/welcome” route to display the welcome message “Welcome to ABC Corporation” and a “/” route to show the following details:\n",
    "Company Name: ABC Corporation\n",
    "Location: India\n",
    "Contact Detail: 999-999-9999\n",
    "Attach the screenshot of the output in Jupyter Notebook."
   ]
  },
  {
   "cell_type": "code",
   "execution_count": null,
   "id": "11d06110",
   "metadata": {},
   "outputs": [
    {
     "name": "stdout",
     "output_type": "stream",
     "text": [
      " * Serving Flask app \"__main__\" (lazy loading)\n",
      " * Environment: production\n",
      "\u001b[31m   WARNING: This is a development server. Do not use it in a production deployment.\u001b[0m\n",
      "\u001b[2m   Use a production WSGI server instead.\u001b[0m\n",
      " * Debug mode: off\n"
     ]
    },
    {
     "name": "stderr",
     "output_type": "stream",
     "text": [
      " * Running on all addresses.\n",
      "   WARNING: This is a development server. Do not use it in a production deployment.\n",
      " * Running on http://192.168.1.2:5000/ (Press CTRL+C to quit)\n",
      "192.168.1.2 - - [25/Mar/2023 13:49:28] \"GET / HTTP/1.1\" 200 -\n"
     ]
    }
   ],
   "source": [
    "from flask import Flask\n",
    "\n",
    "app = Flask(__name__)\n",
    "\n",
    "@app.route('/welcome')\n",
    "def welcome():\n",
    "    return 'Welcome to ABC Corporation'\n",
    "\n",
    "@app.route('/')\n",
    "def company_details():\n",
    "    return 'Company Name: ABC Corporation<br>Location: India<br>Contact Detail: 999-999-9999'\n",
    "\n",
    "\n",
    "if __name__==\"__main__\":\n",
    "    app.run(host=\"0.0.0.0\")"
   ]
  },
  {
   "cell_type": "markdown",
   "id": "b1bd7d92",
   "metadata": {},
   "source": [
    "I attached the screenshot of flask application as well where I executed this code."
   ]
  },
  {
   "cell_type": "markdown",
   "id": "b5271f32",
   "metadata": {},
   "source": [
    "Image=(filename=\"https://1drv.ms/i/s!AnvpiTq79ZxrgRhzaZBO0dltyerP?e=kXaHEy\")"
   ]
  },
  {
   "cell_type": "markdown",
   "id": "c7903757",
   "metadata": {},
   "source": [
    "Image=(filename=\"https://1drv.ms/i/s!AnvpiTq79ZxrgRZsv6sxAg74RELe?e=eaaSEn\")"
   ]
  },
  {
   "cell_type": "markdown",
   "id": "312d9bfe",
   "metadata": {},
   "source": [
    "Image=(filename=\"https://1drv.ms/i/s!AnvpiTq79ZxrgReXFeTcaAz4IQYL?e=Q5Xt9o\")"
   ]
  },
  {
   "cell_type": "markdown",
   "id": "66be07a8",
   "metadata": {},
   "source": [
    "#### Q5. What function is used in Flask for URL Building? Write a Python code to demonstrate the working of the url_for() function."
   ]
  },
  {
   "cell_type": "markdown",
   "id": "96b7b0b5",
   "metadata": {},
   "source": [
    "Ans- In Flask, the url_for() function is used for URL building. It takes the name of the endpoint as its first argument, and any number of keyword arguments, where the keyword corresponds to the variable part of the URL rule."
   ]
  },
  {
   "cell_type": "code",
   "execution_count": 5,
   "id": "37521f2c",
   "metadata": {},
   "outputs": [
    {
     "name": "stdout",
     "output_type": "stream",
     "text": [
      "/user/John\n"
     ]
    }
   ],
   "source": [
    "from flask import Flask, url_for\n",
    "\n",
    "app = Flask(__name__)\n",
    "\n",
    "@app.route('/user/<username>')\n",
    "def profile(username):\n",
    "    return f'Hello, {username}!'\n",
    "\n",
    "with app.test_request_context():\n",
    "    print(url_for('profile', username='John'))\n"
   ]
  },
  {
   "cell_type": "code",
   "execution_count": null,
   "id": "02f3dea7",
   "metadata": {},
   "outputs": [],
   "source": []
  }
 ],
 "metadata": {
  "kernelspec": {
   "display_name": "Python 3 (ipykernel)",
   "language": "python",
   "name": "python3"
  },
  "language_info": {
   "codemirror_mode": {
    "name": "ipython",
    "version": 3
   },
   "file_extension": ".py",
   "mimetype": "text/x-python",
   "name": "python",
   "nbconvert_exporter": "python",
   "pygments_lexer": "ipython3",
   "version": "3.9.13"
  }
 },
 "nbformat": 4,
 "nbformat_minor": 5
}
